{
 "cells": [
  {
   "cell_type": "code",
   "execution_count": 1,
   "metadata": {},
   "outputs": [],
   "source": [
    "output_node_names_list = ['time_distributed_out/Reshape_1']\n",
    "output_node_names = \",\".join(output_node_names_list)"
   ]
  },
  {
   "cell_type": "code",
   "execution_count": 2,
   "metadata": {},
   "outputs": [
    {
     "name": "stdout",
     "output_type": "stream",
     "text": [
      "WARNING:tensorflow:From /home/jage/Documents/un/retain-keras/my_env/lib/python3.6/site-packages/tensorflow/python/tools/freeze_graph.py:249: FastGFile.__init__ (from tensorflow.python.platform.gfile) is deprecated and will be removed in a future version.\n",
      "Instructions for updating:\n",
      "Use tf.gfile.GFile.\n",
      "WARNING:tensorflow:From /home/jage/Documents/un/retain-keras/my_env/lib/python3.6/site-packages/tensorflow/python/tools/freeze_graph.py:127: checkpoint_exists (from tensorflow.python.training.checkpoint_management) is deprecated and will be removed in a future version.\n",
      "Instructions for updating:\n",
      "Use standard file APIs to check for files with this prefix.\n",
      "WARNING:tensorflow:From /home/jage/Documents/un/retain-keras/my_env/lib/python3.6/site-packages/tensorflow/python/ops/control_flow_ops.py:3637: colocate_with (from tensorflow.python.framework.ops) is deprecated and will be removed in a future version.\n",
      "Instructions for updating:\n",
      "Colocations handled automatically by placer.\n",
      "INFO:tensorflow:Restoring parameters from Model/saved_checkpoint-0\n",
      "WARNING:tensorflow:From /home/jage/Documents/un/retain-keras/my_env/lib/python3.6/site-packages/tensorflow/python/tools/freeze_graph.py:232: convert_variables_to_constants (from tensorflow.python.framework.graph_util_impl) is deprecated and will be removed in a future version.\n",
      "Instructions for updating:\n",
      "Use tf.compat.v1.graph_util.convert_variables_to_constants\n",
      "WARNING:tensorflow:From /home/jage/Documents/un/retain-keras/my_env/lib/python3.6/site-packages/tensorflow/python/framework/graph_util_impl.py:245: extract_sub_graph (from tensorflow.python.framework.graph_util_impl) is deprecated and will be removed in a future version.\n",
      "Instructions for updating:\n",
      "Use tf.compat.v1.graph_util.extract_sub_graph\n",
      "INFO:tensorflow:Froze 19 variables.\n",
      "INFO:tensorflow:Converted 19 variables to const ops.\n"
     ]
    }
   ],
   "source": [
    "from tensorflow.python.tools import freeze_graph\n",
    "import os\n",
    "from tensorflow.core.protobuf import saver_pb2\n",
    "\n",
    "input_graph_path = os.path.join('Model/', 'input_graph.pb')\n",
    "input_saver_def_path = \"\"\n",
    "input_binary = False\n",
    "restore_op_name = \"\"\n",
    "filename_tensor_name = \"\"\n",
    "output_graph_path = os.path.join('Model/', 'output_graph.pb')\n",
    "clear_devices = False\n",
    "checkpoint_path = \"Model/saved_checkpoint-0\"\n",
    "input_meta_graph = os.path.join('Model/', \"saved_checkpoint.meta\")\n",
    "\n",
    "freeze_graph.freeze_graph(\n",
    "        input_graph_path,\n",
    "        input_saver_def_path,\n",
    "        input_binary,\n",
    "        checkpoint_path,\n",
    "        output_node_names,\n",
    "        restore_op_name,\n",
    "        filename_tensor_name,\n",
    "        output_graph_path,\n",
    "        clear_devices,\n",
    "        \"\",\n",
    "        \"\",\n",
    "        input_meta_graph,\n",
    "        checkpoint_version= saver_pb2.SaverDef.V2\n",
    "        )\n",
    "    "
   ]
  },
  {
   "cell_type": "code",
   "execution_count": 3,
   "metadata": {},
   "outputs": [],
   "source": [
    "import tensorflow as tf\n",
    "import sys\n",
    "from tensorflow.python.platform import gfile\n",
    "\n",
    "from tensorflow.core.protobuf import saved_model_pb2\n",
    "from tensorflow.python.util import compat\n",
    "\n",
    "with tf.Session() as sess:\n",
    "\tmodel_filename = 'Model/output_graph.pb'\n",
    "\twith gfile.FastGFile(model_filename, 'rb') as f:\n",
    "\n",
    "\t\tdata = compat.as_bytes(f.read())\n",
    "\t\tsm = saved_model_pb2.SavedModel()\n",
    "\t\tsm.ParseFromString(data)\n",
    "\t\t#print(sm)\n",
    "\t\tif 1 != len(sm.meta_graphs):\n",
    "\t\t\tprint('More than one graph found. Not sure which to write')\n",
    "\t\t\tsys.exit(1)\n",
    "\t\t\t\n",
    "\t\t#graph_def = tf.GraphDef()\n",
    "\t\t#graph_def.ParseFromString(sm.meta_graphs[0])\n",
    "\t\tg_in = tf.import_graph_def(sm.meta_graphs[0].graph_def)\n",
    "\tLOGDIR='summaries'\n",
    "\n",
    "train_writer = tf.summary.FileWriter(LOGDIR)\n",
    "train_writer.add_graph(sess.graph)\n",
    "train_writer.flush()\n",
    "train_writer.close()"
   ]
  },
  {
   "cell_type": "code",
   "execution_count": 32,
   "metadata": {},
   "outputs": [],
   "source": [
    "import tensorflow as tf\n",
    "import sys\n",
    "from google.protobuf import text_format\n",
    "from tensorflow.python.lib.io import file_io\n",
    "from tensorflow.core.protobuf import saved_model_pb2\n",
    "def summary_from_pbtxt_proof():\n",
    "    with tf.Session() as sess:\n",
    "        model_filename = 'Model/input_graph.pb'\n",
    "        sm = saved_model_pb2.SavedModel()\n",
    "        file_content = file_io.FileIO(model_filename, \"rb\").read()\n",
    "        text_format.Merge(file_content.decode(\"utf-8\"), sm)\n",
    "        #print(sm)\n",
    "        if 1 != len(sm.meta_graphs):\n",
    "            print('More than one graph found. Not sure which to write')\n",
    "            sys.exit(1)\n",
    "            #graph_def = tf.GraphDef()\n",
    "            #graph_def.ParseFromString(sm.meta_graphs[0])\n",
    "            g_in = tf.import_graph_def(sm.meta_graphs[0].graph_def)\n",
    "        LOGDIR='summaries'\n",
    "\n",
    "    train_writer = tf.summary.FileWriter(LOGDIR)\n",
    "    train_writer.add_graph(sess.graph)\n",
    "    train_writer.flush()\n",
    "    train_writer.close()\n"
   ]
  },
  {
   "cell_type": "code",
   "execution_count": null,
   "metadata": {},
   "outputs": [],
   "source": []
  }
 ],
 "metadata": {
  "kernelspec": {
   "display_name": "Python 3",
   "language": "python",
   "name": "python3"
  },
  "language_info": {
   "codemirror_mode": {
    "name": "ipython",
    "version": 3
   },
   "file_extension": ".py",
   "mimetype": "text/x-python",
   "name": "python",
   "nbconvert_exporter": "python",
   "pygments_lexer": "ipython3",
   "version": "3.6.7"
  }
 },
 "nbformat": 4,
 "nbformat_minor": 2
}
